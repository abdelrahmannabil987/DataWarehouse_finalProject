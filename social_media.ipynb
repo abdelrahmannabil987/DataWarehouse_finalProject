{
  "nbformat": 4,
  "nbformat_minor": 0,
  "metadata": {
    "colab": {
      "provenance": []
    },
    "kernelspec": {
      "name": "python3",
      "display_name": "Python 3"
    },
    "language_info": {
      "name": "python"
    }
  },
  "cells": [
    {
      "cell_type": "markdown",
      "source": [
        "### Connecting kaggle to colab using api"
      ],
      "metadata": {
        "id": "EqJU0mWWe6hm"
      }
    },
    {
      "cell_type": "code",
      "execution_count": null,
      "metadata": {
        "id": "DIAAtbLXd4WC"
      },
      "outputs": [],
      "source": [
        "#delete kaggle api if exist\n",
        "!rm -rf /root/.kaggle/kaggle.json\n",
        "\n",
        "!mkdir -p ~/.kaggle\n",
        "\n",
        "#create json of what i got from kaggle\n",
        "import json\n",
        "\n",
        "kaggle_data = {\"username\":\"abdelrahmannabil987\",\n",
        "               \"key\":\"b5ecec4d07aa00d66721f90c22d836e2\"}\n",
        "#writing the data in kaggle.json\n",
        "with open(\"/root/.kaggle/kaggle.json\", \"w\") as f:\n",
        "    json.dump(kaggle_data, f)\n",
        "\n",
        "#Giving permissions\n",
        "!chmod 600 ~/.kaggle/kaggle.json\n"
      ]
    },
    {
      "cell_type": "code",
      "source": [
        "!kaggle datasets download -d mahdimashayekhi/social-media-vs-productivity"
      ],
      "metadata": {
        "colab": {
          "base_uri": "https://localhost:8080/"
        },
        "id": "iNiX-QKhfLS1",
        "outputId": "409f0dbe-4805-46da-d18e-9b0be2e277f0"
      },
      "execution_count": null,
      "outputs": [
        {
          "output_type": "stream",
          "name": "stdout",
          "text": [
            "Dataset URL: https://www.kaggle.com/datasets/mahdimashayekhi/social-media-vs-productivity\n",
            "License(s): CC-BY-NC-SA-4.0\n",
            "Downloading social-media-vs-productivity.zip to /content\n",
            "  0% 0.00/2.26M [00:00<?, ?B/s]\n",
            "100% 2.26M/2.26M [00:00<00:00, 655MB/s]\n"
          ]
        }
      ]
    },
    {
      "cell_type": "code",
      "source": [
        "!unzip *.zip"
      ],
      "metadata": {
        "colab": {
          "base_uri": "https://localhost:8080/"
        },
        "id": "8Ru3l4BsfThK",
        "outputId": "03e3c415-4b75-44fb-84b5-98540bd32219"
      },
      "execution_count": null,
      "outputs": [
        {
          "output_type": "stream",
          "name": "stdout",
          "text": [
            "Archive:  social-media-vs-productivity.zip\n",
            "  inflating: social_media_vs_productivity.csv  \n"
          ]
        }
      ]
    },
    {
      "cell_type": "code",
      "source": [
        "import pandas as pd\n",
        "df = pd.read_csv(\"Data.csv\")\n",
        "\n",
        "# first 5 rows\n",
        "df.head()"
      ],
      "metadata": {
        "colab": {
          "base_uri": "https://localhost:8080/",
          "height": 226
        },
        "id": "dxBs1jYFfd2R",
        "outputId": "9d78a97f-315c-4bcb-dbbf-831d77f7b05e"
      },
      "execution_count": null,
      "outputs": [
        {
          "output_type": "execute_result",
          "data": {
            "text/plain": [
              "   age  gender    job_type  daily_social_media_time  \\\n",
              "0   56    Male  Unemployed                 4.180940   \n",
              "1   46    Male      Health                 3.249603   \n",
              "2   32    Male     Finance                      NaN   \n",
              "3   60  Female  Unemployed                      NaN   \n",
              "4   25    Male          IT                      NaN   \n",
              "\n",
              "  social_platform_preference  number_of_notifications  work_hours_per_day  \\\n",
              "0                   Facebook                       61            6.753558   \n",
              "1                    Twitter                       59            9.169296   \n",
              "2                    Twitter                       57            7.910952   \n",
              "3                   Facebook                       59            6.355027   \n",
              "4                   Telegram                       66            6.214096   \n",
              "\n",
              "   perceived_productivity_score  actual_productivity_score  stress_level  \\\n",
              "0                      8.040464                   7.291555           4.0   \n",
              "1                      5.063368                   5.165093           7.0   \n",
              "2                      3.861762                   3.474053           4.0   \n",
              "3                      2.916331                   1.774869           6.0   \n",
              "4                      8.868753                        NaN           7.0   \n",
              "\n",
              "   sleep_hours  screen_time_before_sleep  breaks_during_work  uses_focus_apps  \\\n",
              "0     5.116546                  0.419102                   8            False   \n",
              "1     5.103897                  0.671519                   7             True   \n",
              "2     8.583222                  0.624378                   0             True   \n",
              "3     6.052984                  1.204540                   1            False   \n",
              "4     5.405706                  1.876254                   1            False   \n",
              "\n",
              "   has_digital_wellbeing_enabled  coffee_consumption_per_day  \\\n",
              "0                          False                           4   \n",
              "1                           True                           2   \n",
              "2                          False                           3   \n",
              "3                          False                           0   \n",
              "4                           True                           1   \n",
              "\n",
              "   days_feeling_burnout_per_month  weekly_offline_hours  \\\n",
              "0                              11             21.927072   \n",
              "1                              25              0.000000   \n",
              "2                              17             10.322044   \n",
              "3                               4             23.876616   \n",
              "4                              30             10.653519   \n",
              "\n",
              "   job_satisfaction_score  \n",
              "0                6.336688  \n",
              "1                3.412427  \n",
              "2                2.474944  \n",
              "3                1.733670  \n",
              "4                9.693060  "
            ],
            "text/html": [
              "\n",
              "  <div id=\"df-7b565830-2b73-4287-8802-62ef96649640\" class=\"colab-df-container\">\n",
              "    <div>\n",
              "<style scoped>\n",
              "    .dataframe tbody tr th:only-of-type {\n",
              "        vertical-align: middle;\n",
              "    }\n",
              "\n",
              "    .dataframe tbody tr th {\n",
              "        vertical-align: top;\n",
              "    }\n",
              "\n",
              "    .dataframe thead th {\n",
              "        text-align: right;\n",
              "    }\n",
              "</style>\n",
              "<table border=\"1\" class=\"dataframe\">\n",
              "  <thead>\n",
              "    <tr style=\"text-align: right;\">\n",
              "      <th></th>\n",
              "      <th>age</th>\n",
              "      <th>gender</th>\n",
              "      <th>job_type</th>\n",
              "      <th>daily_social_media_time</th>\n",
              "      <th>social_platform_preference</th>\n",
              "      <th>number_of_notifications</th>\n",
              "      <th>work_hours_per_day</th>\n",
              "      <th>perceived_productivity_score</th>\n",
              "      <th>actual_productivity_score</th>\n",
              "      <th>stress_level</th>\n",
              "      <th>sleep_hours</th>\n",
              "      <th>screen_time_before_sleep</th>\n",
              "      <th>breaks_during_work</th>\n",
              "      <th>uses_focus_apps</th>\n",
              "      <th>has_digital_wellbeing_enabled</th>\n",
              "      <th>coffee_consumption_per_day</th>\n",
              "      <th>days_feeling_burnout_per_month</th>\n",
              "      <th>weekly_offline_hours</th>\n",
              "      <th>job_satisfaction_score</th>\n",
              "    </tr>\n",
              "  </thead>\n",
              "  <tbody>\n",
              "    <tr>\n",
              "      <th>0</th>\n",
              "      <td>56</td>\n",
              "      <td>Male</td>\n",
              "      <td>Unemployed</td>\n",
              "      <td>4.180940</td>\n",
              "      <td>Facebook</td>\n",
              "      <td>61</td>\n",
              "      <td>6.753558</td>\n",
              "      <td>8.040464</td>\n",
              "      <td>7.291555</td>\n",
              "      <td>4.0</td>\n",
              "      <td>5.116546</td>\n",
              "      <td>0.419102</td>\n",
              "      <td>8</td>\n",
              "      <td>False</td>\n",
              "      <td>False</td>\n",
              "      <td>4</td>\n",
              "      <td>11</td>\n",
              "      <td>21.927072</td>\n",
              "      <td>6.336688</td>\n",
              "    </tr>\n",
              "    <tr>\n",
              "      <th>1</th>\n",
              "      <td>46</td>\n",
              "      <td>Male</td>\n",
              "      <td>Health</td>\n",
              "      <td>3.249603</td>\n",
              "      <td>Twitter</td>\n",
              "      <td>59</td>\n",
              "      <td>9.169296</td>\n",
              "      <td>5.063368</td>\n",
              "      <td>5.165093</td>\n",
              "      <td>7.0</td>\n",
              "      <td>5.103897</td>\n",
              "      <td>0.671519</td>\n",
              "      <td>7</td>\n",
              "      <td>True</td>\n",
              "      <td>True</td>\n",
              "      <td>2</td>\n",
              "      <td>25</td>\n",
              "      <td>0.000000</td>\n",
              "      <td>3.412427</td>\n",
              "    </tr>\n",
              "    <tr>\n",
              "      <th>2</th>\n",
              "      <td>32</td>\n",
              "      <td>Male</td>\n",
              "      <td>Finance</td>\n",
              "      <td>NaN</td>\n",
              "      <td>Twitter</td>\n",
              "      <td>57</td>\n",
              "      <td>7.910952</td>\n",
              "      <td>3.861762</td>\n",
              "      <td>3.474053</td>\n",
              "      <td>4.0</td>\n",
              "      <td>8.583222</td>\n",
              "      <td>0.624378</td>\n",
              "      <td>0</td>\n",
              "      <td>True</td>\n",
              "      <td>False</td>\n",
              "      <td>3</td>\n",
              "      <td>17</td>\n",
              "      <td>10.322044</td>\n",
              "      <td>2.474944</td>\n",
              "    </tr>\n",
              "    <tr>\n",
              "      <th>3</th>\n",
              "      <td>60</td>\n",
              "      <td>Female</td>\n",
              "      <td>Unemployed</td>\n",
              "      <td>NaN</td>\n",
              "      <td>Facebook</td>\n",
              "      <td>59</td>\n",
              "      <td>6.355027</td>\n",
              "      <td>2.916331</td>\n",
              "      <td>1.774869</td>\n",
              "      <td>6.0</td>\n",
              "      <td>6.052984</td>\n",
              "      <td>1.204540</td>\n",
              "      <td>1</td>\n",
              "      <td>False</td>\n",
              "      <td>False</td>\n",
              "      <td>0</td>\n",
              "      <td>4</td>\n",
              "      <td>23.876616</td>\n",
              "      <td>1.733670</td>\n",
              "    </tr>\n",
              "    <tr>\n",
              "      <th>4</th>\n",
              "      <td>25</td>\n",
              "      <td>Male</td>\n",
              "      <td>IT</td>\n",
              "      <td>NaN</td>\n",
              "      <td>Telegram</td>\n",
              "      <td>66</td>\n",
              "      <td>6.214096</td>\n",
              "      <td>8.868753</td>\n",
              "      <td>NaN</td>\n",
              "      <td>7.0</td>\n",
              "      <td>5.405706</td>\n",
              "      <td>1.876254</td>\n",
              "      <td>1</td>\n",
              "      <td>False</td>\n",
              "      <td>True</td>\n",
              "      <td>1</td>\n",
              "      <td>30</td>\n",
              "      <td>10.653519</td>\n",
              "      <td>9.693060</td>\n",
              "    </tr>\n",
              "  </tbody>\n",
              "</table>\n",
              "</div>\n",
              "    <div class=\"colab-df-buttons\">\n",
              "\n",
              "  <div class=\"colab-df-container\">\n",
              "    <button class=\"colab-df-convert\" onclick=\"convertToInteractive('df-7b565830-2b73-4287-8802-62ef96649640')\"\n",
              "            title=\"Convert this dataframe to an interactive table.\"\n",
              "            style=\"display:none;\">\n",
              "\n",
              "  <svg xmlns=\"http://www.w3.org/2000/svg\" height=\"24px\" viewBox=\"0 -960 960 960\">\n",
              "    <path d=\"M120-120v-720h720v720H120Zm60-500h600v-160H180v160Zm220 220h160v-160H400v160Zm0 220h160v-160H400v160ZM180-400h160v-160H180v160Zm440 0h160v-160H620v160ZM180-180h160v-160H180v160Zm440 0h160v-160H620v160Z\"/>\n",
              "  </svg>\n",
              "    </button>\n",
              "\n",
              "  <style>\n",
              "    .colab-df-container {\n",
              "      display:flex;\n",
              "      gap: 12px;\n",
              "    }\n",
              "\n",
              "    .colab-df-convert {\n",
              "      background-color: #E8F0FE;\n",
              "      border: none;\n",
              "      border-radius: 50%;\n",
              "      cursor: pointer;\n",
              "      display: none;\n",
              "      fill: #1967D2;\n",
              "      height: 32px;\n",
              "      padding: 0 0 0 0;\n",
              "      width: 32px;\n",
              "    }\n",
              "\n",
              "    .colab-df-convert:hover {\n",
              "      background-color: #E2EBFA;\n",
              "      box-shadow: 0px 1px 2px rgba(60, 64, 67, 0.3), 0px 1px 3px 1px rgba(60, 64, 67, 0.15);\n",
              "      fill: #174EA6;\n",
              "    }\n",
              "\n",
              "    .colab-df-buttons div {\n",
              "      margin-bottom: 4px;\n",
              "    }\n",
              "\n",
              "    [theme=dark] .colab-df-convert {\n",
              "      background-color: #3B4455;\n",
              "      fill: #D2E3FC;\n",
              "    }\n",
              "\n",
              "    [theme=dark] .colab-df-convert:hover {\n",
              "      background-color: #434B5C;\n",
              "      box-shadow: 0px 1px 3px 1px rgba(0, 0, 0, 0.15);\n",
              "      filter: drop-shadow(0px 1px 2px rgba(0, 0, 0, 0.3));\n",
              "      fill: #FFFFFF;\n",
              "    }\n",
              "  </style>\n",
              "\n",
              "    <script>\n",
              "      const buttonEl =\n",
              "        document.querySelector('#df-7b565830-2b73-4287-8802-62ef96649640 button.colab-df-convert');\n",
              "      buttonEl.style.display =\n",
              "        google.colab.kernel.accessAllowed ? 'block' : 'none';\n",
              "\n",
              "      async function convertToInteractive(key) {\n",
              "        const element = document.querySelector('#df-7b565830-2b73-4287-8802-62ef96649640');\n",
              "        const dataTable =\n",
              "          await google.colab.kernel.invokeFunction('convertToInteractive',\n",
              "                                                    [key], {});\n",
              "        if (!dataTable) return;\n",
              "\n",
              "        const docLinkHtml = 'Like what you see? Visit the ' +\n",
              "          '<a target=\"_blank\" href=https://colab.research.google.com/notebooks/data_table.ipynb>data table notebook</a>'\n",
              "          + ' to learn more about interactive tables.';\n",
              "        element.innerHTML = '';\n",
              "        dataTable['output_type'] = 'display_data';\n",
              "        await google.colab.output.renderOutput(dataTable, element);\n",
              "        const docLink = document.createElement('div');\n",
              "        docLink.innerHTML = docLinkHtml;\n",
              "        element.appendChild(docLink);\n",
              "      }\n",
              "    </script>\n",
              "  </div>\n",
              "\n",
              "\n",
              "    <div id=\"df-2c608f44-1b70-4629-9141-76377a795fab\">\n",
              "      <button class=\"colab-df-quickchart\" onclick=\"quickchart('df-2c608f44-1b70-4629-9141-76377a795fab')\"\n",
              "                title=\"Suggest charts\"\n",
              "                style=\"display:none;\">\n",
              "\n",
              "<svg xmlns=\"http://www.w3.org/2000/svg\" height=\"24px\"viewBox=\"0 0 24 24\"\n",
              "     width=\"24px\">\n",
              "    <g>\n",
              "        <path d=\"M19 3H5c-1.1 0-2 .9-2 2v14c0 1.1.9 2 2 2h14c1.1 0 2-.9 2-2V5c0-1.1-.9-2-2-2zM9 17H7v-7h2v7zm4 0h-2V7h2v10zm4 0h-2v-4h2v4z\"/>\n",
              "    </g>\n",
              "</svg>\n",
              "      </button>\n",
              "\n",
              "<style>\n",
              "  .colab-df-quickchart {\n",
              "      --bg-color: #E8F0FE;\n",
              "      --fill-color: #1967D2;\n",
              "      --hover-bg-color: #E2EBFA;\n",
              "      --hover-fill-color: #174EA6;\n",
              "      --disabled-fill-color: #AAA;\n",
              "      --disabled-bg-color: #DDD;\n",
              "  }\n",
              "\n",
              "  [theme=dark] .colab-df-quickchart {\n",
              "      --bg-color: #3B4455;\n",
              "      --fill-color: #D2E3FC;\n",
              "      --hover-bg-color: #434B5C;\n",
              "      --hover-fill-color: #FFFFFF;\n",
              "      --disabled-bg-color: #3B4455;\n",
              "      --disabled-fill-color: #666;\n",
              "  }\n",
              "\n",
              "  .colab-df-quickchart {\n",
              "    background-color: var(--bg-color);\n",
              "    border: none;\n",
              "    border-radius: 50%;\n",
              "    cursor: pointer;\n",
              "    display: none;\n",
              "    fill: var(--fill-color);\n",
              "    height: 32px;\n",
              "    padding: 0;\n",
              "    width: 32px;\n",
              "  }\n",
              "\n",
              "  .colab-df-quickchart:hover {\n",
              "    background-color: var(--hover-bg-color);\n",
              "    box-shadow: 0 1px 2px rgba(60, 64, 67, 0.3), 0 1px 3px 1px rgba(60, 64, 67, 0.15);\n",
              "    fill: var(--button-hover-fill-color);\n",
              "  }\n",
              "\n",
              "  .colab-df-quickchart-complete:disabled,\n",
              "  .colab-df-quickchart-complete:disabled:hover {\n",
              "    background-color: var(--disabled-bg-color);\n",
              "    fill: var(--disabled-fill-color);\n",
              "    box-shadow: none;\n",
              "  }\n",
              "\n",
              "  .colab-df-spinner {\n",
              "    border: 2px solid var(--fill-color);\n",
              "    border-color: transparent;\n",
              "    border-bottom-color: var(--fill-color);\n",
              "    animation:\n",
              "      spin 1s steps(1) infinite;\n",
              "  }\n",
              "\n",
              "  @keyframes spin {\n",
              "    0% {\n",
              "      border-color: transparent;\n",
              "      border-bottom-color: var(--fill-color);\n",
              "      border-left-color: var(--fill-color);\n",
              "    }\n",
              "    20% {\n",
              "      border-color: transparent;\n",
              "      border-left-color: var(--fill-color);\n",
              "      border-top-color: var(--fill-color);\n",
              "    }\n",
              "    30% {\n",
              "      border-color: transparent;\n",
              "      border-left-color: var(--fill-color);\n",
              "      border-top-color: var(--fill-color);\n",
              "      border-right-color: var(--fill-color);\n",
              "    }\n",
              "    40% {\n",
              "      border-color: transparent;\n",
              "      border-right-color: var(--fill-color);\n",
              "      border-top-color: var(--fill-color);\n",
              "    }\n",
              "    60% {\n",
              "      border-color: transparent;\n",
              "      border-right-color: var(--fill-color);\n",
              "    }\n",
              "    80% {\n",
              "      border-color: transparent;\n",
              "      border-right-color: var(--fill-color);\n",
              "      border-bottom-color: var(--fill-color);\n",
              "    }\n",
              "    90% {\n",
              "      border-color: transparent;\n",
              "      border-bottom-color: var(--fill-color);\n",
              "    }\n",
              "  }\n",
              "</style>\n",
              "\n",
              "      <script>\n",
              "        async function quickchart(key) {\n",
              "          const quickchartButtonEl =\n",
              "            document.querySelector('#' + key + ' button');\n",
              "          quickchartButtonEl.disabled = true;  // To prevent multiple clicks.\n",
              "          quickchartButtonEl.classList.add('colab-df-spinner');\n",
              "          try {\n",
              "            const charts = await google.colab.kernel.invokeFunction(\n",
              "                'suggestCharts', [key], {});\n",
              "          } catch (error) {\n",
              "            console.error('Error during call to suggestCharts:', error);\n",
              "          }\n",
              "          quickchartButtonEl.classList.remove('colab-df-spinner');\n",
              "          quickchartButtonEl.classList.add('colab-df-quickchart-complete');\n",
              "        }\n",
              "        (() => {\n",
              "          let quickchartButtonEl =\n",
              "            document.querySelector('#df-2c608f44-1b70-4629-9141-76377a795fab button');\n",
              "          quickchartButtonEl.style.display =\n",
              "            google.colab.kernel.accessAllowed ? 'block' : 'none';\n",
              "        })();\n",
              "      </script>\n",
              "    </div>\n",
              "\n",
              "    </div>\n",
              "  </div>\n"
            ],
            "application/vnd.google.colaboratory.intrinsic+json": {
              "type": "dataframe",
              "variable_name": "df",
              "summary": "{\n  \"name\": \"df\",\n  \"rows\": 30000,\n  \"fields\": [\n    {\n      \"column\": \"age\",\n      \"properties\": {\n        \"dtype\": \"number\",\n        \"std\": 13,\n        \"min\": 18,\n        \"max\": 65,\n        \"num_unique_values\": 48,\n        \"samples\": [\n          24,\n          65,\n          54\n        ],\n        \"semantic_type\": \"\",\n        \"description\": \"\"\n      }\n    },\n    {\n      \"column\": \"gender\",\n      \"properties\": {\n        \"dtype\": \"category\",\n        \"num_unique_values\": 3,\n        \"samples\": [\n          \"Male\",\n          \"Female\",\n          \"Other\"\n        ],\n        \"semantic_type\": \"\",\n        \"description\": \"\"\n      }\n    },\n    {\n      \"column\": \"job_type\",\n      \"properties\": {\n        \"dtype\": \"category\",\n        \"num_unique_values\": 6,\n        \"samples\": [\n          \"Unemployed\",\n          \"Health\",\n          \"Student\"\n        ],\n        \"semantic_type\": \"\",\n        \"description\": \"\"\n      }\n    },\n    {\n      \"column\": \"daily_social_media_time\",\n      \"properties\": {\n        \"dtype\": \"number\",\n        \"std\": 2.0748126931311606,\n        \"min\": 0.0,\n        \"max\": 17.973255602826175,\n        \"num_unique_values\": 25375,\n        \"samples\": [\n          3.684045646959003,\n          2.771920308157635,\n          5.42262236996233\n        ],\n        \"semantic_type\": \"\",\n        \"description\": \"\"\n      }\n    },\n    {\n      \"column\": \"social_platform_preference\",\n      \"properties\": {\n        \"dtype\": \"category\",\n        \"num_unique_values\": 5,\n        \"samples\": [\n          \"Twitter\",\n          \"Instagram\",\n          \"Telegram\"\n        ],\n        \"semantic_type\": \"\",\n        \"description\": \"\"\n      }\n    },\n    {\n      \"column\": \"number_of_notifications\",\n      \"properties\": {\n        \"dtype\": \"number\",\n        \"std\": 7,\n        \"min\": 30,\n        \"max\": 90,\n        \"num_unique_values\": 61,\n        \"samples\": [\n          61,\n          60,\n          81\n        ],\n        \"semantic_type\": \"\",\n        \"description\": \"\"\n      }\n    },\n    {\n      \"column\": \"work_hours_per_day\",\n      \"properties\": {\n        \"dtype\": \"number\",\n        \"std\": 1.997735658200184,\n        \"min\": 0.0,\n        \"max\": 12.0,\n        \"num_unique_values\": 29821,\n        \"samples\": [\n          6.082064003239508,\n          7.947368064900783,\n          9.980814369265495\n        ],\n        \"semantic_type\": \"\",\n        \"description\": \"\"\n      }\n    },\n    {\n      \"column\": \"perceived_productivity_score\",\n      \"properties\": {\n        \"dtype\": \"number\",\n        \"std\": 2.023470443810372,\n        \"min\": 2.0002524300446303,\n        \"max\": 8.999375647878052,\n        \"num_unique_values\": 28386,\n        \"samples\": [\n          4.7781006486083015,\n          6.987943882685254,\n          2.3853474136536623\n        ],\n        \"semantic_type\": \"\",\n        \"description\": \"\"\n      }\n    },\n    {\n      \"column\": \"actual_productivity_score\",\n      \"properties\": {\n        \"dtype\": \"number\",\n        \"std\": 1.883378033333406,\n        \"min\": 0.2968118865395523,\n        \"max\": 9.84625801321986,\n        \"num_unique_values\": 27635,\n        \"samples\": [\n          7.836103423226295,\n          4.343287832451988,\n          6.947262643204099\n        ],\n        \"semantic_type\": \"\",\n        \"description\": \"\"\n      }\n    },\n    {\n      \"column\": \"stress_level\",\n      \"properties\": {\n        \"dtype\": \"number\",\n        \"std\": 2.8663436996643825,\n        \"min\": 1.0,\n        \"max\": 10.0,\n        \"num_unique_values\": 10,\n        \"samples\": [\n          2.0,\n          7.0,\n          9.0\n        ],\n        \"semantic_type\": \"\",\n        \"description\": \"\"\n      }\n    },\n    {\n      \"column\": \"sleep_hours\",\n      \"properties\": {\n        \"dtype\": \"number\",\n        \"std\": 1.464003861797961,\n        \"min\": 3.0,\n        \"max\": 10.0,\n        \"num_unique_values\": 26926,\n        \"samples\": [\n          6.392710695886443,\n          9.190527021547432,\n          6.665427896899153\n        ],\n        \"semantic_type\": \"\",\n        \"description\": \"\"\n      }\n    },\n    {\n      \"column\": \"screen_time_before_sleep\",\n      \"properties\": {\n        \"dtype\": \"number\",\n        \"std\": 0.6533550012054317,\n        \"min\": 0.0,\n        \"max\": 3.0,\n        \"num_unique_values\": 25567,\n        \"samples\": [\n          1.3231972063971356,\n          1.9820659371772216,\n          0.3972876426297775\n        ],\n        \"semantic_type\": \"\",\n        \"description\": \"\"\n      }\n    },\n    {\n      \"column\": \"breaks_during_work\",\n      \"properties\": {\n        \"dtype\": \"number\",\n        \"std\": 3,\n        \"min\": 0,\n        \"max\": 10,\n        \"num_unique_values\": 11,\n        \"samples\": [\n          4,\n          8,\n          6\n        ],\n        \"semantic_type\": \"\",\n        \"description\": \"\"\n      }\n    },\n    {\n      \"column\": \"uses_focus_apps\",\n      \"properties\": {\n        \"dtype\": \"boolean\",\n        \"num_unique_values\": 2,\n        \"samples\": [\n          true,\n          false\n        ],\n        \"semantic_type\": \"\",\n        \"description\": \"\"\n      }\n    },\n    {\n      \"column\": \"has_digital_wellbeing_enabled\",\n      \"properties\": {\n        \"dtype\": \"boolean\",\n        \"num_unique_values\": 2,\n        \"samples\": [\n          true,\n          false\n        ],\n        \"semantic_type\": \"\",\n        \"description\": \"\"\n      }\n    },\n    {\n      \"column\": \"coffee_consumption_per_day\",\n      \"properties\": {\n        \"dtype\": \"number\",\n        \"std\": 1,\n        \"min\": 0,\n        \"max\": 10,\n        \"num_unique_values\": 11,\n        \"samples\": [\n          5,\n          4\n        ],\n        \"semantic_type\": \"\",\n        \"description\": \"\"\n      }\n    },\n    {\n      \"column\": \"days_feeling_burnout_per_month\",\n      \"properties\": {\n        \"dtype\": \"number\",\n        \"std\": 9,\n        \"min\": 0,\n        \"max\": 31,\n        \"num_unique_values\": 32,\n        \"samples\": [\n          12,\n          6\n        ],\n        \"semantic_type\": \"\",\n        \"description\": \"\"\n      }\n    },\n    {\n      \"column\": \"weekly_offline_hours\",\n      \"properties\": {\n        \"dtype\": \"number\",\n        \"std\": 7.28041535114658,\n        \"min\": 0.0,\n        \"max\": 40.96476891751684,\n        \"num_unique_values\": 26737,\n        \"samples\": [\n          7.680614628165515,\n          5.493788071362975\n        ],\n        \"semantic_type\": \"\",\n        \"description\": \"\"\n      }\n    },\n    {\n      \"column\": \"job_satisfaction_score\",\n      \"properties\": {\n        \"dtype\": \"number\",\n        \"std\": 2.121193587784209,\n        \"min\": 0.0,\n        \"max\": 10.0,\n        \"num_unique_values\": 27079,\n        \"samples\": [\n          2.211871216191648,\n          3.540921328057246\n        ],\n        \"semantic_type\": \"\",\n        \"description\": \"\"\n      }\n    }\n  ]\n}"
            }
          },
          "metadata": {},
          "execution_count": 5
        }
      ]
    },
    {
      "cell_type": "markdown",
      "source": [
        "### Data Cleaning"
      ],
      "metadata": {
        "id": "hvO3jck_f3e5"
      }
    },
    {
      "cell_type": "code",
      "source": [
        "df.info()"
      ],
      "metadata": {
        "colab": {
          "base_uri": "https://localhost:8080/"
        },
        "id": "PKBZ2HF4fvOG",
        "outputId": "129a35e8-5a81-4e47-b09e-fd067870161a"
      },
      "execution_count": null,
      "outputs": [
        {
          "output_type": "stream",
          "name": "stdout",
          "text": [
            "<class 'pandas.core.frame.DataFrame'>\n",
            "RangeIndex: 30000 entries, 0 to 29999\n",
            "Data columns (total 19 columns):\n",
            " #   Column                          Non-Null Count  Dtype  \n",
            "---  ------                          --------------  -----  \n",
            " 0   age                             30000 non-null  int64  \n",
            " 1   gender                          30000 non-null  object \n",
            " 2   job_type                        30000 non-null  object \n",
            " 3   daily_social_media_time         27235 non-null  float64\n",
            " 4   social_platform_preference      30000 non-null  object \n",
            " 5   number_of_notifications         30000 non-null  int64  \n",
            " 6   work_hours_per_day              30000 non-null  float64\n",
            " 7   perceived_productivity_score    28386 non-null  float64\n",
            " 8   actual_productivity_score       27635 non-null  float64\n",
            " 9   stress_level                    28096 non-null  float64\n",
            " 10  sleep_hours                     27402 non-null  float64\n",
            " 11  screen_time_before_sleep        27789 non-null  float64\n",
            " 12  breaks_during_work              30000 non-null  int64  \n",
            " 13  uses_focus_apps                 30000 non-null  bool   \n",
            " 14  has_digital_wellbeing_enabled   30000 non-null  bool   \n",
            " 15  coffee_consumption_per_day      30000 non-null  int64  \n",
            " 16  days_feeling_burnout_per_month  30000 non-null  int64  \n",
            " 17  weekly_offline_hours            30000 non-null  float64\n",
            " 18  job_satisfaction_score          27270 non-null  float64\n",
            "dtypes: bool(2), float64(9), int64(5), object(3)\n",
            "memory usage: 3.9+ MB\n"
          ]
        }
      ]
    },
    {
      "cell_type": "markdown",
      "source": [
        "### Drop ALL NULL ROWS"
      ],
      "metadata": {
        "id": "53fEGkAMg_hq"
      }
    },
    {
      "cell_type": "code",
      "source": [
        "df=df.dropna()\n",
        "df.info()"
      ],
      "metadata": {
        "colab": {
          "base_uri": "https://localhost:8080/"
        },
        "id": "hP4fGYHtgCY1",
        "outputId": "3008e20b-c202-43f6-f4e8-999332836e45"
      },
      "execution_count": null,
      "outputs": [
        {
          "output_type": "stream",
          "name": "stdout",
          "text": [
            "<class 'pandas.core.frame.DataFrame'>\n",
            "Index: 17074 entries, 0 to 29998\n",
            "Data columns (total 19 columns):\n",
            " #   Column                          Non-Null Count  Dtype  \n",
            "---  ------                          --------------  -----  \n",
            " 0   age                             17074 non-null  int64  \n",
            " 1   gender                          17074 non-null  object \n",
            " 2   job_type                        17074 non-null  object \n",
            " 3   daily_social_media_time         17074 non-null  float64\n",
            " 4   social_platform_preference      17074 non-null  object \n",
            " 5   number_of_notifications         17074 non-null  int64  \n",
            " 6   work_hours_per_day              17074 non-null  float64\n",
            " 7   perceived_productivity_score    17074 non-null  float64\n",
            " 8   actual_productivity_score       17074 non-null  float64\n",
            " 9   stress_level                    17074 non-null  float64\n",
            " 10  sleep_hours                     17074 non-null  float64\n",
            " 11  screen_time_before_sleep        17074 non-null  float64\n",
            " 12  breaks_during_work              17074 non-null  int64  \n",
            " 13  uses_focus_apps                 17074 non-null  bool   \n",
            " 14  has_digital_wellbeing_enabled   17074 non-null  bool   \n",
            " 15  coffee_consumption_per_day      17074 non-null  int64  \n",
            " 16  days_feeling_burnout_per_month  17074 non-null  int64  \n",
            " 17  weekly_offline_hours            17074 non-null  float64\n",
            " 18  job_satisfaction_score          17074 non-null  float64\n",
            "dtypes: bool(2), float64(9), int64(5), object(3)\n",
            "memory usage: 2.4+ MB\n"
          ]
        }
      ]
    },
    {
      "cell_type": "markdown",
      "source": [
        "Replace Male and Female to M and F"
      ],
      "metadata": {
        "id": "qwYKYkgVmEVG"
      }
    },
    {
      "cell_type": "code",
      "source": [
        "df[\"gender\"]=df[\"gender\"].replace({\"Male\":\"M\",\"Female\":\"F\"})"
      ],
      "metadata": {
        "id": "NNCpaclPg4sE"
      },
      "execution_count": null,
      "outputs": []
    },
    {
      "cell_type": "code",
      "source": [
        "df[\"gender\"]=df[\"gender\"].replace({\"other\":\"O\"})"
      ],
      "metadata": {
        "id": "ICMvYPsQq_ue"
      },
      "execution_count": null,
      "outputs": []
    },
    {
      "cell_type": "markdown",
      "source": [
        "### Check incosistance"
      ],
      "metadata": {
        "id": "EY1kS1HRm69U"
      }
    },
    {
      "cell_type": "code",
      "source": [
        "df[\"uses_focus_apps\"].unique()"
      ],
      "metadata": {
        "colab": {
          "base_uri": "https://localhost:8080/"
        },
        "id": "YRBf46xvmPgb",
        "outputId": "a22f27e1-2868-4ffb-dc10-15c6313ef06b"
      },
      "execution_count": null,
      "outputs": [
        {
          "output_type": "execute_result",
          "data": {
            "text/plain": [
              "array([False,  True])"
            ]
          },
          "metadata": {},
          "execution_count": 9
        }
      ]
    },
    {
      "cell_type": "code",
      "source": [
        "df[\"uses_focus_apps\"]=df[\"uses_focus_apps\"].replace({\"True\":\"T\",\"False\":\"F\"})"
      ],
      "metadata": {
        "id": "q0nUVOcwm4kd"
      },
      "execution_count": null,
      "outputs": []
    },
    {
      "cell_type": "code",
      "source": [
        "df[\"has_digital_wellbeing_enabled\"].unique()"
      ],
      "metadata": {
        "colab": {
          "base_uri": "https://localhost:8080/"
        },
        "id": "k3bUaIGRnXLl",
        "outputId": "327d6da2-21da-4e6a-d5ae-1a740d1c3885"
      },
      "execution_count": null,
      "outputs": [
        {
          "output_type": "execute_result",
          "data": {
            "text/plain": [
              "array([False,  True])"
            ]
          },
          "metadata": {},
          "execution_count": 11
        }
      ]
    },
    {
      "cell_type": "code",
      "source": [
        "df[\"has_digital_wellbeing_enabled\"]=df[\"has_digital_wellbeing_enabled\"].replace({\"True\":\"T\",\"False\":\"F\"})"
      ],
      "metadata": {
        "id": "-dgEidLAnn84"
      },
      "execution_count": null,
      "outputs": []
    },
    {
      "cell_type": "markdown",
      "source": [
        "## Drop Duplicate"
      ],
      "metadata": {
        "id": "U36W6RFvoRc6"
      }
    },
    {
      "cell_type": "code",
      "source": [
        "df.drop_duplicates(inplace=True)"
      ],
      "metadata": {
        "id": "yd1aGAUCnwBj"
      },
      "execution_count": null,
      "outputs": []
    },
    {
      "cell_type": "code",
      "source": [
        "df.info()"
      ],
      "metadata": {
        "colab": {
          "base_uri": "https://localhost:8080/"
        },
        "id": "wLHd7BeqoWVC",
        "outputId": "6ccc8852-51a0-4bae-a515-9f62473b4647"
      },
      "execution_count": null,
      "outputs": [
        {
          "output_type": "stream",
          "name": "stdout",
          "text": [
            "<class 'pandas.core.frame.DataFrame'>\n",
            "Index: 17074 entries, 0 to 29998\n",
            "Data columns (total 19 columns):\n",
            " #   Column                          Non-Null Count  Dtype  \n",
            "---  ------                          --------------  -----  \n",
            " 0   age                             17074 non-null  int64  \n",
            " 1   gender                          17074 non-null  object \n",
            " 2   job_type                        17074 non-null  object \n",
            " 3   daily_social_media_time         17074 non-null  float64\n",
            " 4   social_platform_preference      17074 non-null  object \n",
            " 5   number_of_notifications         17074 non-null  int64  \n",
            " 6   work_hours_per_day              17074 non-null  float64\n",
            " 7   perceived_productivity_score    17074 non-null  float64\n",
            " 8   actual_productivity_score       17074 non-null  float64\n",
            " 9   stress_level                    17074 non-null  float64\n",
            " 10  sleep_hours                     17074 non-null  float64\n",
            " 11  screen_time_before_sleep        17074 non-null  float64\n",
            " 12  breaks_during_work              17074 non-null  int64  \n",
            " 13  uses_focus_apps                 17074 non-null  bool   \n",
            " 14  has_digital_wellbeing_enabled   17074 non-null  bool   \n",
            " 15  coffee_consumption_per_day      17074 non-null  int64  \n",
            " 16  days_feeling_burnout_per_month  17074 non-null  int64  \n",
            " 17  weekly_offline_hours            17074 non-null  float64\n",
            " 18  job_satisfaction_score          17074 non-null  float64\n",
            "dtypes: bool(2), float64(9), int64(5), object(3)\n",
            "memory usage: 2.4+ MB\n"
          ]
        }
      ]
    },
    {
      "cell_type": "code",
      "source": [
        "df.head()"
      ],
      "metadata": {
        "colab": {
          "base_uri": "https://localhost:8080/",
          "height": 226
        },
        "id": "LcFau8QgoY0V",
        "outputId": "a1553622-7baf-4bb9-8298-ecdda2ea567c"
      },
      "execution_count": null,
      "outputs": [
        {
          "output_type": "execute_result",
          "data": {
            "text/plain": [
              "    age gender    job_type  daily_social_media_time  \\\n",
              "0    56      M  Unemployed                 4.180940   \n",
              "1    46      M      Health                 3.249603   \n",
              "6    56      F  Unemployed                 4.381070   \n",
              "7    36      F   Education                 4.089168   \n",
              "10   28      M          IT                 3.341559   \n",
              "\n",
              "   social_platform_preference  number_of_notifications  work_hours_per_day  \\\n",
              "0                    Facebook                       61            6.753558   \n",
              "1                     Twitter                       59            9.169296   \n",
              "6                      TikTok                       60            3.902309   \n",
              "7                     Twitter                       49            6.560467   \n",
              "10                    Twitter                       57           11.022035   \n",
              "\n",
              "    perceived_productivity_score  actual_productivity_score  stress_level  \\\n",
              "0                       8.040464                   7.291555           4.0   \n",
              "1                       5.063368                   5.165093           7.0   \n",
              "6                       6.420989                   5.976408           7.0   \n",
              "7                       2.681830                   2.446927           4.0   \n",
              "10                      8.940636                   7.983252           4.0   \n",
              "\n",
              "    sleep_hours  screen_time_before_sleep  breaks_during_work  \\\n",
              "0      5.116546                  0.419102                   8   \n",
              "1      5.103897                  0.671519                   7   \n",
              "6      7.549849                  2.252624                   4   \n",
              "7      6.325507                  0.747998                   2   \n",
              "10     3.952547                  1.028640                   5   \n",
              "\n",
              "    uses_focus_apps  has_digital_wellbeing_enabled  \\\n",
              "0             False                          False   \n",
              "1              True                           True   \n",
              "6             False                          False   \n",
              "7             False                          False   \n",
              "10             True                           True   \n",
              "\n",
              "    coffee_consumption_per_day  days_feeling_burnout_per_month  \\\n",
              "0                            4                              11   \n",
              "1                            2                              25   \n",
              "6                            4                              20   \n",
              "7                            4                              29   \n",
              "10                           1                               3   \n",
              "\n",
              "    weekly_offline_hours  job_satisfaction_score  \n",
              "0              21.927072                6.336688  \n",
              "1               0.000000                3.412427  \n",
              "6              24.084905                5.501373  \n",
              "7               8.419648                3.444376  \n",
              "10             13.514515                9.414637  "
            ],
            "text/html": [
              "\n",
              "  <div id=\"df-c8abfe34-e7f0-4f46-b95d-433086a9b5d2\" class=\"colab-df-container\">\n",
              "    <div>\n",
              "<style scoped>\n",
              "    .dataframe tbody tr th:only-of-type {\n",
              "        vertical-align: middle;\n",
              "    }\n",
              "\n",
              "    .dataframe tbody tr th {\n",
              "        vertical-align: top;\n",
              "    }\n",
              "\n",
              "    .dataframe thead th {\n",
              "        text-align: right;\n",
              "    }\n",
              "</style>\n",
              "<table border=\"1\" class=\"dataframe\">\n",
              "  <thead>\n",
              "    <tr style=\"text-align: right;\">\n",
              "      <th></th>\n",
              "      <th>age</th>\n",
              "      <th>gender</th>\n",
              "      <th>job_type</th>\n",
              "      <th>daily_social_media_time</th>\n",
              "      <th>social_platform_preference</th>\n",
              "      <th>number_of_notifications</th>\n",
              "      <th>work_hours_per_day</th>\n",
              "      <th>perceived_productivity_score</th>\n",
              "      <th>actual_productivity_score</th>\n",
              "      <th>stress_level</th>\n",
              "      <th>sleep_hours</th>\n",
              "      <th>screen_time_before_sleep</th>\n",
              "      <th>breaks_during_work</th>\n",
              "      <th>uses_focus_apps</th>\n",
              "      <th>has_digital_wellbeing_enabled</th>\n",
              "      <th>coffee_consumption_per_day</th>\n",
              "      <th>days_feeling_burnout_per_month</th>\n",
              "      <th>weekly_offline_hours</th>\n",
              "      <th>job_satisfaction_score</th>\n",
              "    </tr>\n",
              "  </thead>\n",
              "  <tbody>\n",
              "    <tr>\n",
              "      <th>0</th>\n",
              "      <td>56</td>\n",
              "      <td>M</td>\n",
              "      <td>Unemployed</td>\n",
              "      <td>4.180940</td>\n",
              "      <td>Facebook</td>\n",
              "      <td>61</td>\n",
              "      <td>6.753558</td>\n",
              "      <td>8.040464</td>\n",
              "      <td>7.291555</td>\n",
              "      <td>4.0</td>\n",
              "      <td>5.116546</td>\n",
              "      <td>0.419102</td>\n",
              "      <td>8</td>\n",
              "      <td>False</td>\n",
              "      <td>False</td>\n",
              "      <td>4</td>\n",
              "      <td>11</td>\n",
              "      <td>21.927072</td>\n",
              "      <td>6.336688</td>\n",
              "    </tr>\n",
              "    <tr>\n",
              "      <th>1</th>\n",
              "      <td>46</td>\n",
              "      <td>M</td>\n",
              "      <td>Health</td>\n",
              "      <td>3.249603</td>\n",
              "      <td>Twitter</td>\n",
              "      <td>59</td>\n",
              "      <td>9.169296</td>\n",
              "      <td>5.063368</td>\n",
              "      <td>5.165093</td>\n",
              "      <td>7.0</td>\n",
              "      <td>5.103897</td>\n",
              "      <td>0.671519</td>\n",
              "      <td>7</td>\n",
              "      <td>True</td>\n",
              "      <td>True</td>\n",
              "      <td>2</td>\n",
              "      <td>25</td>\n",
              "      <td>0.000000</td>\n",
              "      <td>3.412427</td>\n",
              "    </tr>\n",
              "    <tr>\n",
              "      <th>6</th>\n",
              "      <td>56</td>\n",
              "      <td>F</td>\n",
              "      <td>Unemployed</td>\n",
              "      <td>4.381070</td>\n",
              "      <td>TikTok</td>\n",
              "      <td>60</td>\n",
              "      <td>3.902309</td>\n",
              "      <td>6.420989</td>\n",
              "      <td>5.976408</td>\n",
              "      <td>7.0</td>\n",
              "      <td>7.549849</td>\n",
              "      <td>2.252624</td>\n",
              "      <td>4</td>\n",
              "      <td>False</td>\n",
              "      <td>False</td>\n",
              "      <td>4</td>\n",
              "      <td>20</td>\n",
              "      <td>24.084905</td>\n",
              "      <td>5.501373</td>\n",
              "    </tr>\n",
              "    <tr>\n",
              "      <th>7</th>\n",
              "      <td>36</td>\n",
              "      <td>F</td>\n",
              "      <td>Education</td>\n",
              "      <td>4.089168</td>\n",
              "      <td>Twitter</td>\n",
              "      <td>49</td>\n",
              "      <td>6.560467</td>\n",
              "      <td>2.681830</td>\n",
              "      <td>2.446927</td>\n",
              "      <td>4.0</td>\n",
              "      <td>6.325507</td>\n",
              "      <td>0.747998</td>\n",
              "      <td>2</td>\n",
              "      <td>False</td>\n",
              "      <td>False</td>\n",
              "      <td>4</td>\n",
              "      <td>29</td>\n",
              "      <td>8.419648</td>\n",
              "      <td>3.444376</td>\n",
              "    </tr>\n",
              "    <tr>\n",
              "      <th>10</th>\n",
              "      <td>28</td>\n",
              "      <td>M</td>\n",
              "      <td>IT</td>\n",
              "      <td>3.341559</td>\n",
              "      <td>Twitter</td>\n",
              "      <td>57</td>\n",
              "      <td>11.022035</td>\n",
              "      <td>8.940636</td>\n",
              "      <td>7.983252</td>\n",
              "      <td>4.0</td>\n",
              "      <td>3.952547</td>\n",
              "      <td>1.028640</td>\n",
              "      <td>5</td>\n",
              "      <td>True</td>\n",
              "      <td>True</td>\n",
              "      <td>1</td>\n",
              "      <td>3</td>\n",
              "      <td>13.514515</td>\n",
              "      <td>9.414637</td>\n",
              "    </tr>\n",
              "  </tbody>\n",
              "</table>\n",
              "</div>\n",
              "    <div class=\"colab-df-buttons\">\n",
              "\n",
              "  <div class=\"colab-df-container\">\n",
              "    <button class=\"colab-df-convert\" onclick=\"convertToInteractive('df-c8abfe34-e7f0-4f46-b95d-433086a9b5d2')\"\n",
              "            title=\"Convert this dataframe to an interactive table.\"\n",
              "            style=\"display:none;\">\n",
              "\n",
              "  <svg xmlns=\"http://www.w3.org/2000/svg\" height=\"24px\" viewBox=\"0 -960 960 960\">\n",
              "    <path d=\"M120-120v-720h720v720H120Zm60-500h600v-160H180v160Zm220 220h160v-160H400v160Zm0 220h160v-160H400v160ZM180-400h160v-160H180v160Zm440 0h160v-160H620v160ZM180-180h160v-160H180v160Zm440 0h160v-160H620v160Z\"/>\n",
              "  </svg>\n",
              "    </button>\n",
              "\n",
              "  <style>\n",
              "    .colab-df-container {\n",
              "      display:flex;\n",
              "      gap: 12px;\n",
              "    }\n",
              "\n",
              "    .colab-df-convert {\n",
              "      background-color: #E8F0FE;\n",
              "      border: none;\n",
              "      border-radius: 50%;\n",
              "      cursor: pointer;\n",
              "      display: none;\n",
              "      fill: #1967D2;\n",
              "      height: 32px;\n",
              "      padding: 0 0 0 0;\n",
              "      width: 32px;\n",
              "    }\n",
              "\n",
              "    .colab-df-convert:hover {\n",
              "      background-color: #E2EBFA;\n",
              "      box-shadow: 0px 1px 2px rgba(60, 64, 67, 0.3), 0px 1px 3px 1px rgba(60, 64, 67, 0.15);\n",
              "      fill: #174EA6;\n",
              "    }\n",
              "\n",
              "    .colab-df-buttons div {\n",
              "      margin-bottom: 4px;\n",
              "    }\n",
              "\n",
              "    [theme=dark] .colab-df-convert {\n",
              "      background-color: #3B4455;\n",
              "      fill: #D2E3FC;\n",
              "    }\n",
              "\n",
              "    [theme=dark] .colab-df-convert:hover {\n",
              "      background-color: #434B5C;\n",
              "      box-shadow: 0px 1px 3px 1px rgba(0, 0, 0, 0.15);\n",
              "      filter: drop-shadow(0px 1px 2px rgba(0, 0, 0, 0.3));\n",
              "      fill: #FFFFFF;\n",
              "    }\n",
              "  </style>\n",
              "\n",
              "    <script>\n",
              "      const buttonEl =\n",
              "        document.querySelector('#df-c8abfe34-e7f0-4f46-b95d-433086a9b5d2 button.colab-df-convert');\n",
              "      buttonEl.style.display =\n",
              "        google.colab.kernel.accessAllowed ? 'block' : 'none';\n",
              "\n",
              "      async function convertToInteractive(key) {\n",
              "        const element = document.querySelector('#df-c8abfe34-e7f0-4f46-b95d-433086a9b5d2');\n",
              "        const dataTable =\n",
              "          await google.colab.kernel.invokeFunction('convertToInteractive',\n",
              "                                                    [key], {});\n",
              "        if (!dataTable) return;\n",
              "\n",
              "        const docLinkHtml = 'Like what you see? Visit the ' +\n",
              "          '<a target=\"_blank\" href=https://colab.research.google.com/notebooks/data_table.ipynb>data table notebook</a>'\n",
              "          + ' to learn more about interactive tables.';\n",
              "        element.innerHTML = '';\n",
              "        dataTable['output_type'] = 'display_data';\n",
              "        await google.colab.output.renderOutput(dataTable, element);\n",
              "        const docLink = document.createElement('div');\n",
              "        docLink.innerHTML = docLinkHtml;\n",
              "        element.appendChild(docLink);\n",
              "      }\n",
              "    </script>\n",
              "  </div>\n",
              "\n",
              "\n",
              "    <div id=\"df-ea1b43d0-7bfe-4ea6-ac3d-72a338eb5b38\">\n",
              "      <button class=\"colab-df-quickchart\" onclick=\"quickchart('df-ea1b43d0-7bfe-4ea6-ac3d-72a338eb5b38')\"\n",
              "                title=\"Suggest charts\"\n",
              "                style=\"display:none;\">\n",
              "\n",
              "<svg xmlns=\"http://www.w3.org/2000/svg\" height=\"24px\"viewBox=\"0 0 24 24\"\n",
              "     width=\"24px\">\n",
              "    <g>\n",
              "        <path d=\"M19 3H5c-1.1 0-2 .9-2 2v14c0 1.1.9 2 2 2h14c1.1 0 2-.9 2-2V5c0-1.1-.9-2-2-2zM9 17H7v-7h2v7zm4 0h-2V7h2v10zm4 0h-2v-4h2v4z\"/>\n",
              "    </g>\n",
              "</svg>\n",
              "      </button>\n",
              "\n",
              "<style>\n",
              "  .colab-df-quickchart {\n",
              "      --bg-color: #E8F0FE;\n",
              "      --fill-color: #1967D2;\n",
              "      --hover-bg-color: #E2EBFA;\n",
              "      --hover-fill-color: #174EA6;\n",
              "      --disabled-fill-color: #AAA;\n",
              "      --disabled-bg-color: #DDD;\n",
              "  }\n",
              "\n",
              "  [theme=dark] .colab-df-quickchart {\n",
              "      --bg-color: #3B4455;\n",
              "      --fill-color: #D2E3FC;\n",
              "      --hover-bg-color: #434B5C;\n",
              "      --hover-fill-color: #FFFFFF;\n",
              "      --disabled-bg-color: #3B4455;\n",
              "      --disabled-fill-color: #666;\n",
              "  }\n",
              "\n",
              "  .colab-df-quickchart {\n",
              "    background-color: var(--bg-color);\n",
              "    border: none;\n",
              "    border-radius: 50%;\n",
              "    cursor: pointer;\n",
              "    display: none;\n",
              "    fill: var(--fill-color);\n",
              "    height: 32px;\n",
              "    padding: 0;\n",
              "    width: 32px;\n",
              "  }\n",
              "\n",
              "  .colab-df-quickchart:hover {\n",
              "    background-color: var(--hover-bg-color);\n",
              "    box-shadow: 0 1px 2px rgba(60, 64, 67, 0.3), 0 1px 3px 1px rgba(60, 64, 67, 0.15);\n",
              "    fill: var(--button-hover-fill-color);\n",
              "  }\n",
              "\n",
              "  .colab-df-quickchart-complete:disabled,\n",
              "  .colab-df-quickchart-complete:disabled:hover {\n",
              "    background-color: var(--disabled-bg-color);\n",
              "    fill: var(--disabled-fill-color);\n",
              "    box-shadow: none;\n",
              "  }\n",
              "\n",
              "  .colab-df-spinner {\n",
              "    border: 2px solid var(--fill-color);\n",
              "    border-color: transparent;\n",
              "    border-bottom-color: var(--fill-color);\n",
              "    animation:\n",
              "      spin 1s steps(1) infinite;\n",
              "  }\n",
              "\n",
              "  @keyframes spin {\n",
              "    0% {\n",
              "      border-color: transparent;\n",
              "      border-bottom-color: var(--fill-color);\n",
              "      border-left-color: var(--fill-color);\n",
              "    }\n",
              "    20% {\n",
              "      border-color: transparent;\n",
              "      border-left-color: var(--fill-color);\n",
              "      border-top-color: var(--fill-color);\n",
              "    }\n",
              "    30% {\n",
              "      border-color: transparent;\n",
              "      border-left-color: var(--fill-color);\n",
              "      border-top-color: var(--fill-color);\n",
              "      border-right-color: var(--fill-color);\n",
              "    }\n",
              "    40% {\n",
              "      border-color: transparent;\n",
              "      border-right-color: var(--fill-color);\n",
              "      border-top-color: var(--fill-color);\n",
              "    }\n",
              "    60% {\n",
              "      border-color: transparent;\n",
              "      border-right-color: var(--fill-color);\n",
              "    }\n",
              "    80% {\n",
              "      border-color: transparent;\n",
              "      border-right-color: var(--fill-color);\n",
              "      border-bottom-color: var(--fill-color);\n",
              "    }\n",
              "    90% {\n",
              "      border-color: transparent;\n",
              "      border-bottom-color: var(--fill-color);\n",
              "    }\n",
              "  }\n",
              "</style>\n",
              "\n",
              "      <script>\n",
              "        async function quickchart(key) {\n",
              "          const quickchartButtonEl =\n",
              "            document.querySelector('#' + key + ' button');\n",
              "          quickchartButtonEl.disabled = true;  // To prevent multiple clicks.\n",
              "          quickchartButtonEl.classList.add('colab-df-spinner');\n",
              "          try {\n",
              "            const charts = await google.colab.kernel.invokeFunction(\n",
              "                'suggestCharts', [key], {});\n",
              "          } catch (error) {\n",
              "            console.error('Error during call to suggestCharts:', error);\n",
              "          }\n",
              "          quickchartButtonEl.classList.remove('colab-df-spinner');\n",
              "          quickchartButtonEl.classList.add('colab-df-quickchart-complete');\n",
              "        }\n",
              "        (() => {\n",
              "          let quickchartButtonEl =\n",
              "            document.querySelector('#df-ea1b43d0-7bfe-4ea6-ac3d-72a338eb5b38 button');\n",
              "          quickchartButtonEl.style.display =\n",
              "            google.colab.kernel.accessAllowed ? 'block' : 'none';\n",
              "        })();\n",
              "      </script>\n",
              "    </div>\n",
              "\n",
              "    </div>\n",
              "  </div>\n"
            ],
            "application/vnd.google.colaboratory.intrinsic+json": {
              "type": "dataframe",
              "variable_name": "df",
              "summary": "{\n  \"name\": \"df\",\n  \"rows\": 17074,\n  \"fields\": [\n    {\n      \"column\": \"age\",\n      \"properties\": {\n        \"dtype\": \"number\",\n        \"std\": 13,\n        \"min\": 18,\n        \"max\": 65,\n        \"num_unique_values\": 48,\n        \"samples\": [\n          27,\n          60,\n          59\n        ],\n        \"semantic_type\": \"\",\n        \"description\": \"\"\n      }\n    },\n    {\n      \"column\": \"gender\",\n      \"properties\": {\n        \"dtype\": \"category\",\n        \"num_unique_values\": 3,\n        \"samples\": [\n          \"M\",\n          \"F\",\n          \"Other\"\n        ],\n        \"semantic_type\": \"\",\n        \"description\": \"\"\n      }\n    },\n    {\n      \"column\": \"job_type\",\n      \"properties\": {\n        \"dtype\": \"category\",\n        \"num_unique_values\": 6,\n        \"samples\": [\n          \"Unemployed\",\n          \"Health\",\n          \"Finance\"\n        ],\n        \"semantic_type\": \"\",\n        \"description\": \"\"\n      }\n    },\n    {\n      \"column\": \"daily_social_media_time\",\n      \"properties\": {\n        \"dtype\": \"number\",\n        \"std\": 2.0802566756073033,\n        \"min\": 0.0,\n        \"max\": 17.817948297796974,\n        \"num_unique_values\": 15941,\n        \"samples\": [\n          5.225697846463407,\n          4.1482559116712165,\n          2.410513436916344\n        ],\n        \"semantic_type\": \"\",\n        \"description\": \"\"\n      }\n    },\n    {\n      \"column\": \"social_platform_preference\",\n      \"properties\": {\n        \"dtype\": \"category\",\n        \"num_unique_values\": 5,\n        \"samples\": [\n          \"Twitter\",\n          \"Instagram\",\n          \"TikTok\"\n        ],\n        \"semantic_type\": \"\",\n        \"description\": \"\"\n      }\n    },\n    {\n      \"column\": \"number_of_notifications\",\n      \"properties\": {\n        \"dtype\": \"number\",\n        \"std\": 7,\n        \"min\": 32,\n        \"max\": 90,\n        \"num_unique_values\": 58,\n        \"samples\": [\n          61,\n          65,\n          40\n        ],\n        \"semantic_type\": \"\",\n        \"description\": \"\"\n      }\n    },\n    {\n      \"column\": \"work_hours_per_day\",\n      \"properties\": {\n        \"dtype\": \"number\",\n        \"std\": 1.9952800262795085,\n        \"min\": 0.0,\n        \"max\": 12.0,\n        \"num_unique_values\": 16971,\n        \"samples\": [\n          9.71150833386355,\n          8.019007134952554,\n          2.3222534306866303\n        ],\n        \"semantic_type\": \"\",\n        \"description\": \"\"\n      }\n    },\n    {\n      \"column\": \"perceived_productivity_score\",\n      \"properties\": {\n        \"dtype\": \"number\",\n        \"std\": 2.026414954710014,\n        \"min\": 2.0002524300446303,\n        \"max\": 8.999375647878052,\n        \"num_unique_values\": 17074,\n        \"samples\": [\n          2.646607291058208,\n          6.982860499665284,\n          3.0721618487623203\n        ],\n        \"semantic_type\": \"\",\n        \"description\": \"\"\n      }\n    },\n    {\n      \"column\": \"actual_productivity_score\",\n      \"properties\": {\n        \"dtype\": \"number\",\n        \"std\": 1.8888812499534584,\n        \"min\": 0.2984757114988288,\n        \"max\": 9.84625801321986,\n        \"num_unique_values\": 17074,\n        \"samples\": [\n          2.321966220538639,\n          6.639901092798671,\n          2.4233019128099\n        ],\n        \"semantic_type\": \"\",\n        \"description\": \"\"\n      }\n    },\n    {\n      \"column\": \"stress_level\",\n      \"properties\": {\n        \"dtype\": \"number\",\n        \"std\": 2.866152474053341,\n        \"min\": 1.0,\n        \"max\": 10.0,\n        \"num_unique_values\": 10,\n        \"samples\": [\n          8.0,\n          7.0,\n          6.0\n        ],\n        \"semantic_type\": \"\",\n        \"description\": \"\"\n      }\n    },\n    {\n      \"column\": \"sleep_hours\",\n      \"properties\": {\n        \"dtype\": \"number\",\n        \"std\": 1.4554858275818694,\n        \"min\": 3.0,\n        \"max\": 10.0,\n        \"num_unique_values\": 16795,\n        \"samples\": [\n          5.695542156300894,\n          9.065798432431606,\n          5.0281750372555365\n        ],\n        \"semantic_type\": \"\",\n        \"description\": \"\"\n      }\n    },\n    {\n      \"column\": \"screen_time_before_sleep\",\n      \"properties\": {\n        \"dtype\": \"number\",\n        \"std\": 0.6548207777599342,\n        \"min\": 0.0,\n        \"max\": 3.0,\n        \"num_unique_values\": 15695,\n        \"samples\": [\n          1.9109503702343549,\n          1.9896653234876287,\n          0.097740681844073\n        ],\n        \"semantic_type\": \"\",\n        \"description\": \"\"\n      }\n    },\n    {\n      \"column\": \"breaks_during_work\",\n      \"properties\": {\n        \"dtype\": \"number\",\n        \"std\": 3,\n        \"min\": 0,\n        \"max\": 10,\n        \"num_unique_values\": 11,\n        \"samples\": [\n          3,\n          8,\n          1\n        ],\n        \"semantic_type\": \"\",\n        \"description\": \"\"\n      }\n    },\n    {\n      \"column\": \"uses_focus_apps\",\n      \"properties\": {\n        \"dtype\": \"boolean\",\n        \"num_unique_values\": 2,\n        \"samples\": [\n          true,\n          false\n        ],\n        \"semantic_type\": \"\",\n        \"description\": \"\"\n      }\n    },\n    {\n      \"column\": \"has_digital_wellbeing_enabled\",\n      \"properties\": {\n        \"dtype\": \"boolean\",\n        \"num_unique_values\": 2,\n        \"samples\": [\n          true,\n          false\n        ],\n        \"semantic_type\": \"\",\n        \"description\": \"\"\n      }\n    },\n    {\n      \"column\": \"coffee_consumption_per_day\",\n      \"properties\": {\n        \"dtype\": \"number\",\n        \"std\": 1,\n        \"min\": 0,\n        \"max\": 9,\n        \"num_unique_values\": 10,\n        \"samples\": [\n          8,\n          2\n        ],\n        \"semantic_type\": \"\",\n        \"description\": \"\"\n      }\n    },\n    {\n      \"column\": \"days_feeling_burnout_per_month\",\n      \"properties\": {\n        \"dtype\": \"number\",\n        \"std\": 9,\n        \"min\": 0,\n        \"max\": 31,\n        \"num_unique_values\": 32,\n        \"samples\": [\n          8,\n          10\n        ],\n        \"semantic_type\": \"\",\n        \"description\": \"\"\n      }\n    },\n    {\n      \"column\": \"weekly_offline_hours\",\n      \"properties\": {\n        \"dtype\": \"number\",\n        \"std\": 7.253498964947656,\n        \"min\": 0.0,\n        \"max\": 40.96476891751684,\n        \"num_unique_values\": 15251,\n        \"samples\": [\n          0.0781539454191406,\n          14.88837080885863\n        ],\n        \"semantic_type\": \"\",\n        \"description\": \"\"\n      }\n    },\n    {\n      \"column\": \"job_satisfaction_score\",\n      \"properties\": {\n        \"dtype\": \"number\",\n        \"std\": 2.1301089013262193,\n        \"min\": 0.0,\n        \"max\": 10.0,\n        \"num_unique_values\": 16959,\n        \"samples\": [\n          3.3958423712591745,\n          5.798341028456221\n        ],\n        \"semantic_type\": \"\",\n        \"description\": \"\"\n      }\n    }\n  ]\n}"
            }
          },
          "metadata": {},
          "execution_count": 15
        }
      ]
    },
    {
      "cell_type": "code",
      "source": [
        "df.to_csv(\"clean_data.csv\",index=False)"
      ],
      "metadata": {
        "id": "WrudhD6ZqgfZ"
      },
      "execution_count": null,
      "outputs": []
    },
    {
      "cell_type": "markdown",
      "source": [
        "### Create Dimension Tables"
      ],
      "metadata": {
        "id": "MJUX-XnEwriw"
      }
    },
    {
      "cell_type": "code",
      "source": [
        "Dimuser=df[[\"gender\",\"age\",\"job_type\"]]\n",
        "Dimuser[\"user_id\"]=range(1,len(Dimuser)+1)\n",
        "Dimuser.head()\n",
        "Dimuser.to_csv(\"Dimuser.csv\",index=False)"
      ],
      "metadata": {
        "colab": {
          "base_uri": "https://localhost:8080/"
        },
        "id": "cBmEHyF5s1PV",
        "outputId": "fb2badc7-647f-435e-b2fa-4622363b4b8a"
      },
      "execution_count": null,
      "outputs": [
        {
          "output_type": "stream",
          "name": "stderr",
          "text": [
            "/tmp/ipython-input-923670477.py:2: SettingWithCopyWarning: \n",
            "A value is trying to be set on a copy of a slice from a DataFrame.\n",
            "Try using .loc[row_indexer,col_indexer] = value instead\n",
            "\n",
            "See the caveats in the documentation: https://pandas.pydata.org/pandas-docs/stable/user_guide/indexing.html#returning-a-view-versus-a-copy\n",
            "  Dimuser[\"user_id\"]=range(1,len(Dimuser)+1)\n"
          ]
        }
      ]
    },
    {
      "cell_type": "code",
      "source": [
        "Dimplatform=df[[\"social_platform_preference\"]]\n",
        "Dimplatform[\"platform_id\"]=range(1,len(Dimplatform)+1)\n",
        "Dimplatform.head()\n",
        "Dimplatform.to_csv(\"Dimplatform.csv\",index=False)"
      ],
      "metadata": {
        "colab": {
          "base_uri": "https://localhost:8080/"
        },
        "id": "T7neAoENxKQQ",
        "outputId": "dd2d02df-bcb5-41d0-d73b-85dc140b2220"
      },
      "execution_count": null,
      "outputs": [
        {
          "output_type": "stream",
          "name": "stderr",
          "text": [
            "/tmp/ipython-input-3564029082.py:2: SettingWithCopyWarning: \n",
            "A value is trying to be set on a copy of a slice from a DataFrame.\n",
            "Try using .loc[row_indexer,col_indexer] = value instead\n",
            "\n",
            "See the caveats in the documentation: https://pandas.pydata.org/pandas-docs/stable/user_guide/indexing.html#returning-a-view-versus-a-copy\n",
            "  Dimplatform[\"platform_id\"]=range(1,len(Dimplatform)+1)\n"
          ]
        }
      ]
    },
    {
      "cell_type": "code",
      "source": [
        "Dimdigitalbehaviour=df[[\"uses_focus_apps\",\"has_digital_wellbeing_enabled\",\"number_of_notifications\",\"screen_time_before_sleep\",\"breaks_during_work\",\"weekly_offline_hours\"]]\n",
        "Dimdigitalbehaviour[\"digital_id\"]=range(1,len(Dimdigitalbehaviour)+1)\n",
        "Dimdigitalbehaviour.head()\n",
        "Dimdigitalbehaviour.to_csv(\"Dimdigitalbehaviour.csv\",index=False)"
      ],
      "metadata": {
        "colab": {
          "base_uri": "https://localhost:8080/"
        },
        "id": "KC372wZext6l",
        "outputId": "1ad6f8a7-5db9-43e9-edb8-a20af6dededf"
      },
      "execution_count": null,
      "outputs": [
        {
          "output_type": "stream",
          "name": "stderr",
          "text": [
            "/tmp/ipython-input-1321223814.py:2: SettingWithCopyWarning: \n",
            "A value is trying to be set on a copy of a slice from a DataFrame.\n",
            "Try using .loc[row_indexer,col_indexer] = value instead\n",
            "\n",
            "See the caveats in the documentation: https://pandas.pydata.org/pandas-docs/stable/user_guide/indexing.html#returning-a-view-versus-a-copy\n",
            "  Dimdigitalbehaviour[\"digital_id\"]=range(1,len(Dimdigitalbehaviour)+1)\n"
          ]
        }
      ]
    },
    {
      "cell_type": "code",
      "source": [
        "DimWellbeing=df[[\"stress_level\",\"sleep_hours\",\"coffee_consumption_per_day\",\"days_feeling_burnout_per_month\",\"job_satisfaction_score\"]]\n",
        "DimWellbeing[\"wellbeing_id\"]=range(1,len(DimWellbeing)+1)\n",
        "DimWellbeing.head()\n",
        "DimWellbeing.to_csv(\"DimWellbeing.csv\",index=False)"
      ],
      "metadata": {
        "colab": {
          "base_uri": "https://localhost:8080/"
        },
        "id": "GAP23ndLyXG9",
        "outputId": "01774ec7-ddc5-42dd-96f7-a703c91ffa1d"
      },
      "execution_count": null,
      "outputs": [
        {
          "output_type": "stream",
          "name": "stderr",
          "text": [
            "/tmp/ipython-input-425410834.py:2: SettingWithCopyWarning: \n",
            "A value is trying to be set on a copy of a slice from a DataFrame.\n",
            "Try using .loc[row_indexer,col_indexer] = value instead\n",
            "\n",
            "See the caveats in the documentation: https://pandas.pydata.org/pandas-docs/stable/user_guide/indexing.html#returning-a-view-versus-a-copy\n",
            "  DimWellbeing[\"wellbeing_id\"]=range(1,len(DimWellbeing)+1)\n"
          ]
        }
      ]
    },
    {
      "cell_type": "code",
      "source": [
        "Factproductivity=df[[\"daily_social_media_time\",\"perceived_productivity_score\",\"actual_productivity_score\"]]\n",
        "Factproductivity[\"fact_id\"]=range(1,len(Factproductivity)+1)\n",
        "Factproductivity.head()\n",
        "Factproductivity.to_csv(\"Factproductivity.csv\",index=False)"
      ],
      "metadata": {
        "colab": {
          "base_uri": "https://localhost:8080/"
        },
        "id": "YcZTLSXAzLb4",
        "outputId": "5c5a7d77-f9b6-4839-b03a-1d6a3e2df439"
      },
      "execution_count": null,
      "outputs": [
        {
          "output_type": "stream",
          "name": "stderr",
          "text": [
            "/tmp/ipython-input-292922677.py:2: SettingWithCopyWarning: \n",
            "A value is trying to be set on a copy of a slice from a DataFrame.\n",
            "Try using .loc[row_indexer,col_indexer] = value instead\n",
            "\n",
            "See the caveats in the documentation: https://pandas.pydata.org/pandas-docs/stable/user_guide/indexing.html#returning-a-view-versus-a-copy\n",
            "  Factproductivity[\"fact_id\"]=range(1,len(Factproductivity)+1)\n"
          ]
        }
      ]
    },
    {
      "cell_type": "code",
      "source": [],
      "metadata": {
        "id": "UZZH-7Cfzn9s"
      },
      "execution_count": null,
      "outputs": []
    }
  ]
}